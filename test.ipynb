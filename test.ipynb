{
 "cells": [
  {
   "cell_type": "code",
   "execution_count": 3,
   "metadata": {},
   "outputs": [
    {
     "name": "stdout",
     "output_type": "stream",
     "text": [
      "Extracted 867 frames to frames\n"
     ]
    }
   ],
   "source": [
    "import cv2\n",
    "import os\n",
    "\n",
    "# Define the video file path\n",
    "video_path = 'clip.mp4'\n",
    "\n",
    "# Create a directory to save the frames\n",
    "frames_dir = 'frames'\n",
    "os.makedirs(frames_dir, exist_ok=True)\n",
    "\n",
    "# Open the video file\n",
    "cap = cv2.VideoCapture(video_path)\n",
    "frame_count = 0\n",
    "\n",
    "while True:\n",
    "    ret, frame = cap.read()\n",
    "    if not ret:\n",
    "        break\n",
    "    \n",
    "    # Save frame as image\n",
    "    frame_path = os.path.join(frames_dir, f'frame_{frame_count:04d}.jpg')\n",
    "    cv2.imwrite(frame_path, frame)\n",
    "    \n",
    "    frame_count += 1\n",
    "\n",
    "cap.release()\n",
    "print(f'Extracted {frame_count} frames to {frames_dir}')\n"
   ]
  },
  {
   "cell_type": "code",
   "execution_count": 4,
   "metadata": {},
   "outputs": [
    {
     "name": "stderr",
     "output_type": "stream",
     "text": [
      "Using cache found in C:\\Users\\Lenovo/.cache\\torch\\hub\\ultralytics_yolov5_master\n",
      "YOLOv5  2024-7-17 Python-3.10.7 torch-2.3.0+cpu CPU\n",
      "\n",
      "Fusing layers... \n",
      "YOLOv5s summary: 213 layers, 7225885 parameters, 0 gradients, 16.4 GFLOPs\n",
      "Adding AutoShape... \n"
     ]
    },
    {
     "name": "stdout",
     "output_type": "stream",
     "text": [
      "Annotated frames saved in annotated_frames\n"
     ]
    }
   ],
   "source": [
    "import torch\n",
    "import cv2\n",
    "import os\n",
    "from pathlib import Path\n",
    "\n",
    "# Load the YOLOv5 model\n",
    "model = torch.hub.load('ultralytics/yolov5', 'yolov5s', pretrained=True)\n",
    "\n",
    "# Define the path to the frames directory\n",
    "frames_dir = Path('frames')\n",
    "\n",
    "# Define the output directory for annotated frames\n",
    "output_annotated_dir = Path('annotated_frames')\n",
    "output_annotated_dir.mkdir(exist_ok=True)\n",
    "\n",
    "# Perform object detection on each frame\n",
    "for frame_file in frames_dir.iterdir():\n",
    "    if frame_file.suffix == '.jpg':\n",
    "        # Read the frame\n",
    "        img = cv2.imread(str(frame_file))\n",
    "        \n",
    "        # Perform detection\n",
    "        results = model(img)\n",
    "        \n",
    "        # Parse results\n",
    "        for result in results.xyxy[0].cpu().numpy():\n",
    "            x1, y1, x2, y2, conf, cls = result\n",
    "            label = model.names[int(cls)]\n",
    "            if label == 'syringe':  # Assuming 'syringe' is the label for the syringe class\n",
    "                # Draw bounding box\n",
    "                cv2.rectangle(img, (int(x1), int(y1)), (int(x2), int(y2)), (0, 255, 0), 2)\n",
    "                cv2.putText(img, f'{label} {conf:.2f}', (int(x1), int(y1) - 10), cv2.FONT_HERSHEY_SIMPLEX, 0.5, (0, 255, 0), 2)\n",
    "\n",
    "        # Save the annotated frame\n",
    "        annotated_frame_path = output_annotated_dir / frame_file.name\n",
    "        cv2.imwrite(str(annotated_frame_path), img)\n",
    "\n",
    "print(f'Annotated frames saved in {output_annotated_dir}')\n"
   ]
  },
  {
   "cell_type": "code",
   "execution_count": 5,
   "metadata": {},
   "outputs": [
    {
     "name": "stdout",
     "output_type": "stream",
     "text": [
      "Annotated video saved at annotated_clip.mp4\n"
     ]
    }
   ],
   "source": [
    "output_video_path = 'annotated_clip.mp4'\n",
    "frame_files = sorted([f for f in output_annotated_dir.iterdir() if f.suffix == '.jpg'])\n",
    "frame = cv2.imread(str(frame_files[0]))\n",
    "height, width, layers = frame.shape\n",
    "\n",
    "video = cv2.VideoWriter(output_video_path, cv2.VideoWriter_fourcc(*'mp4v'), 30, (width, height))\n",
    "\n",
    "for frame_file in frame_files:\n",
    "    frame = cv2.imread(str(frame_file))\n",
    "    video.write(frame)\n",
    "\n",
    "video.release()\n",
    "print(f'Annotated video saved at {output_video_path}')\n"
   ]
  }
 ],
 "metadata": {
  "kernelspec": {
   "display_name": "Python 3",
   "language": "python",
   "name": "python3"
  },
  "language_info": {
   "codemirror_mode": {
    "name": "ipython",
    "version": 3
   },
   "file_extension": ".py",
   "mimetype": "text/x-python",
   "name": "python",
   "nbconvert_exporter": "python",
   "pygments_lexer": "ipython3",
   "version": "3.10.7"
  }
 },
 "nbformat": 4,
 "nbformat_minor": 2
}
